{
 "cells": [
  {
   "cell_type": "markdown",
   "metadata": {},
   "source": [
    "\n",
    "# PySpark Movie Data Analysis"
   ]
  },
  {
   "cell_type": "markdown",
   "metadata": {},
   "source": [
    "\n",
    "# Install and Import Packages"
   ]
  },
  {
   "cell_type": "code",
   "execution_count": 17,
   "metadata": {},
   "outputs": [],
   "source": [
    "# Install dotenv if not already installed\n",
    "# %pip install python-dotenv\n",
    "\n",
    "import os\n",
    "import requests\n",
    "from dotenv import load_dotenv\n",
    "from pyspark.sql import SparkSession\n",
    "import pandas as pd\n",
    "from pyspark.sql.functions import col\n"
   ]
  },
  {
   "cell_type": "markdown",
   "metadata": {},
   "source": [
    "\n",
    "# Load Environment Variables"
   ]
  },
  {
   "cell_type": "code",
   "execution_count": 3,
   "metadata": {},
   "outputs": [],
   "source": [
    "# Load environment variables\n",
    "load_dotenv()\n",
    "API_KEY = os.getenv(\"TMDB_API_KEY\")\n"
   ]
  },
  {
   "cell_type": "markdown",
   "metadata": {},
   "source": [
    "\n",
    "# Configuration Parameters"
   ]
  },
  {
   "cell_type": "code",
   "execution_count": 19,
   "metadata": {},
   "outputs": [],
   "source": [
    "# Configuration parameters\n",
    "API_URL = \"https://api.themoviedb.org/3/movie/popular\"\n",
    "OUTPUT_FILE_PATH = \"C:\\\\Datasets\\\\Labs_Data\\\\TMDB-Data.csv\"  # <-- update this to where you want to save the CSV\n",
    "APP_NAME = \"PySparkFormalPipelineTMDB\"\n",
    "MASTER = \"local[*]\"\n",
    "\n"
   ]
  },
  {
   "cell_type": "markdown",
   "metadata": {},
   "source": [
    "\n",
    "# Functions (Spark Session Creation)"
   ]
  },
  {
   "cell_type": "code",
   "execution_count": 20,
   "metadata": {},
   "outputs": [],
   "source": [
    "def create_spark_session(app_name=APP_NAME, master=MASTER):\n",
    "    try:\n",
    "        spark = SparkSession.builder.appName(app_name).master(master).getOrCreate()\n",
    "        print(\"SparkSession started successfully.\")\n",
    "        return spark\n",
    "    except Exception as e:\n",
    "        print(f\"Failed to create SparkSession: {e}\")\n",
    "        raise\n"
   ]
  },
  {
   "cell_type": "markdown",
   "metadata": {},
   "source": [
    "\n",
    "# Functions Fetch TMDB Data"
   ]
  },
  {
   "cell_type": "code",
   "execution_count": 21,
   "metadata": {},
   "outputs": [],
   "source": [
    "def fetch_tmdb_data(api_key, api_url):\n",
    "    try:\n",
    "        if not api_key:\n",
    "            raise ValueError(\"TMDB API key is missing. Please check your .env file.\")\n",
    "        response = requests.get(api_url, params={\"api_key\": api_key})\n",
    "        response.raise_for_status()\n",
    "        data = response.json()\n",
    "        movies = data.get(\"results\", [])\n",
    "        print(f\"Fetched {len(movies)} movies from TMDB.\")\n",
    "        return movies\n",
    "    except Exception as e:\n",
    "        print(f\"Failed to fetch TMDB data: {e}\")\n",
    "        raise\n"
   ]
  },
  {
   "cell_type": "markdown",
   "metadata": {},
   "source": [
    "\n",
    "# Functions (Load, Clean, Transform and Save)"
   ]
  },
  {
   "cell_type": "code",
   "execution_count": 22,
   "metadata": {},
   "outputs": [],
   "source": [
    "def load_data_into_spark(spark, data):\n",
    "    try:\n",
    "        pdf = pd.DataFrame(data)\n",
    "        df = spark.createDataFrame(pdf)\n",
    "        print(\"Data loaded into Spark DataFrame.\")\n",
    "        return df\n",
    "    except Exception as e:\n",
    "        print(f\"Failed to load data into Spark: {e}\")\n",
    "        raise\n",
    "\n",
    "def clean_data(df):\n",
    "    try:\n",
    "        cleaned_df = df.dropna()\n",
    "        print(\"Data cleaned (null values dropped).\")\n",
    "        return cleaned_df\n",
    "    except Exception as e:\n",
    "        print(f\"Failed during data cleaning: {e}\")\n",
    "        raise\n",
    "\n",
    "from pyspark.sql.functions import col, udf\n",
    "from pyspark.sql.types import StringType\n",
    "\n",
    "# Define a UDF (user-defined function) to stringify arrays\n",
    "def array_to_string(arr):\n",
    "    if arr is not None:\n",
    "        return \",\".join(map(str, arr))\n",
    "    else:\n",
    "        return None\n",
    "\n",
    "array_to_string_udf = udf(array_to_string, StringType())\n",
    "\n",
    "def transform_data(df):\n",
    "    try:\n",
    "        transformed_df = df.withColumn(\"vote_count\", col(\"vote_count\").cast(\"int\"))\n",
    "        transformed_df = transformed_df.withColumn(\"genre_ids\", array_to_string_udf(col(\"genre_ids\")))\n",
    "        print(\"Data transformed (columns cast and arrays stringified).\")\n",
    "        return transformed_df\n",
    "    except Exception as e:\n",
    "        print(f\"Failed during data transformation: {e}\")\n",
    "        raise\n",
    "\n",
    "\n",
    "def save_data(df, output_path):\n",
    "    try:\n",
    "        df.write.mode(\"overwrite\").option(\"header\", True).csv(output_path)\n",
    "        print(f\"Data saved to {output_path}.\")\n",
    "    except Exception as e:\n",
    "        print(f\"Failed to save data: {e}\")\n",
    "        raise\n"
   ]
  },
  {
   "cell_type": "markdown",
   "metadata": {},
   "source": [
    "\n",
    "# Main Pipeline Function"
   ]
  },
  {
   "cell_type": "code",
   "execution_count": 23,
   "metadata": {},
   "outputs": [],
   "source": [
    "def main():\n",
    "    spark = create_spark_session()\n",
    "\n",
    "    try:\n",
    "        tmdb_data = fetch_tmdb_data(API_KEY, API_URL)\n",
    "        df = load_data_into_spark(spark, tmdb_data)\n",
    "        df_clean = clean_data(df)\n",
    "        df_transformed = transform_data(df_clean)\n",
    "        save_data(df_transformed, OUTPUT_FILE_PATH)\n",
    "    except Exception as pipeline_error:\n",
    "        print(f\"Pipeline execution failed: {pipeline_error}\")\n",
    "    finally:\n",
    "        spark.stop()\n",
    "        print(\"SparkSession stopped.\")\n"
   ]
  },
  {
   "cell_type": "markdown",
   "metadata": {},
   "source": [
    "\n",
    "# Script Entry point"
   ]
  },
  {
   "cell_type": "code",
   "execution_count": null,
   "metadata": {},
   "outputs": [],
   "source": [
    "if __name__ == \"__main__\":\n",
    "    main()\n"
   ]
  }
 ],
 "metadata": {
  "kernelspec": {
   "display_name": "Python 3",
   "language": "python",
   "name": "python3"
  },
  "language_info": {
   "codemirror_mode": {
    "name": "ipython",
    "version": 3
   },
   "file_extension": ".py",
   "mimetype": "text/x-python",
   "name": "python",
   "nbconvert_exporter": "python",
   "pygments_lexer": "ipython3",
   "version": "3.11.9"
  }
 },
 "nbformat": 4,
 "nbformat_minor": 2
}
